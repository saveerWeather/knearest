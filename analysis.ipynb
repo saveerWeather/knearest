{
 "cells": [
  {
   "cell_type": "markdown",
   "metadata": {},
   "source": [
    "This notebook walks through the analysis required to complete the tasks provided .\n",
    "\n",
    "Q1: Use the provided CSV file named “GCL.csv” to apply the KNN classifier with k=3. Calculate the accuracy, sensitivity, and specificity. Note: Use the features from columns A to AA, and the labels from column AB?\n",
    "\n",
    "Q2: Use the same file to apply the KNN classifier with k=5. Calculate the confusion matrix?"
   ]
  },
  {
   "cell_type": "code",
   "execution_count": 56,
   "metadata": {},
   "outputs": [],
   "source": [
    "#fetch data \n",
    "import pandas as pd\n",
    "df = pd.read_csv(\"GCL.csv\", header=None)"
   ]
  },
  {
   "cell_type": "code",
   "execution_count": 57,
   "metadata": {},
   "outputs": [],
   "source": [
    "#separate features and labels into X and y, respectively\n",
    "X = df[df.columns[:-1]]\n",
    "y = df[df.columns[-1]]"
   ]
  },
  {
   "cell_type": "code",
   "execution_count": 58,
   "metadata": {},
   "outputs": [],
   "source": [
    "#split data into training and testing sets\n",
    "from sklearn.model_selection import train_test_split\n",
    "X_train, X_test, y_train, y_test = train_test_split(X, y, test_size=0.2)"
   ]
  },
  {
   "cell_type": "code",
   "execution_count": 59,
   "metadata": {},
   "outputs": [],
   "source": [
    "#implement KNN n=3\n",
    "from sklearn.neighbors import KNeighborsClassifier\n",
    "knn = KNeighborsClassifier(n_neighbors=3)\n",
    "knn.fit(X_train, y_train)\n",
    "y_pred = knn.predict(X_test)"
   ]
  },
  {
   "cell_type": "code",
   "execution_count": 60,
   "metadata": {},
   "outputs": [
    {
     "name": "stdout",
     "output_type": "stream",
     "text": [
      "Overall Accuracy: 0.944954128440367\n",
      "[[23  0  0]\n",
      " [ 0 24  0]\n",
      " [ 3  3 56]]\n",
      "Class 0:\n",
      ">>sensitivity: 1.0\n",
      ">>specificity: 0.9651162790697675\n",
      "Class 1:\n",
      ">>sensitivity: 1.0\n",
      ">>specificity: 0.9647058823529412\n",
      "Class 2:\n",
      ">>sensitivity: 0.9032258064516129\n",
      ">>specificity: 1.0\n"
     ]
    }
   ],
   "source": [
    "#evaluate accuracy, sensitivity, and specificity, acknolwedging that the data has 3 LABELS and not two\n",
    "import numpy as np\n",
    "from sklearn.metrics import accuracy_score, confusion_matrix\n",
    "\n",
    "overall_accuracy = accuracy_score(y_test, y_pred)\n",
    "print(\"Overall Accuracy:\", overall_accuracy)\n",
    "\n",
    "\n",
    "#this confusion matrix gives us the data we need to calculate the asked for metrics (TP, TN, FP, FN for each class since this is a trinary classification not binary)\n",
    "cmatrix = confusion_matrix(y_test, y_pred, labels=[0, 1, 2])\n",
    "print(cmatrix)\n",
    "total_samples = np.sum(cmatrix)\n",
    "\n",
    "for i in range(3):\n",
    "    true_positive = cmatrix[i, i]\n",
    "    false_negative = np.sum(cmatrix[i, :]) - true_positive\n",
    "    false_positive = np.sum(cmatrix[:, i]) - true_positive\n",
    "    true_negative = total_samples - (true_positive + false_negative + false_positive)\n",
    "    \n",
    "    sensitivity = true_positive / (true_positive + false_negative) \n",
    "    specificity = true_negative / (true_negative + false_positive)\n",
    "    \n",
    "    print(f\"Class {i}:\")\n",
    "    print(f\">>sensitivity: {sensitivity}\")\n",
    "    print(f\">>specificity: {specificity}\")\n"
   ]
  },
  {
   "cell_type": "code",
   "execution_count": 61,
   "metadata": {},
   "outputs": [],
   "source": [
    "#implement KNN n=5\n",
    "from sklearn.neighbors import KNeighborsClassifier\n",
    "knn5 = KNeighborsClassifier(n_neighbors=5)\n",
    "knn5.fit(X_train, y_train)\n",
    "y_pred5 = knn5.predict(X_test)"
   ]
  },
  {
   "cell_type": "code",
   "execution_count": 62,
   "metadata": {},
   "outputs": [
    {
     "name": "stdout",
     "output_type": "stream",
     "text": [
      "[[23  0  0]\n",
      " [ 0 24  0]\n",
      " [ 3  3 56]]\n"
     ]
    }
   ],
   "source": [
    "#print confusion matrix\n",
    "cmatrix5 = confusion_matrix(y_test, y_pred5, labels=[0, 1, 2])\n",
    "print(cmatrix5)\n",
    "\n"
   ]
  },
  {
   "cell_type": "code",
   "execution_count": null,
   "metadata": {},
   "outputs": [],
   "source": []
  },
  {
   "cell_type": "code",
   "execution_count": null,
   "metadata": {},
   "outputs": [],
   "source": []
  },
  {
   "cell_type": "code",
   "execution_count": null,
   "metadata": {},
   "outputs": [],
   "source": []
  },
  {
   "cell_type": "code",
   "execution_count": null,
   "metadata": {},
   "outputs": [],
   "source": []
  }
 ],
 "metadata": {
  "kernelspec": {
   "display_name": "base",
   "language": "python",
   "name": "python3"
  },
  "language_info": {
   "codemirror_mode": {
    "name": "ipython",
    "version": 3
   },
   "file_extension": ".py",
   "mimetype": "text/x-python",
   "name": "python",
   "nbconvert_exporter": "python",
   "pygments_lexer": "ipython3",
   "version": "3.11.7"
  }
 },
 "nbformat": 4,
 "nbformat_minor": 2
}
